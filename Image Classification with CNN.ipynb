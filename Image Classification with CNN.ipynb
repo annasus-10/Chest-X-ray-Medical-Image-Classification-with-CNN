{
  "cells": [
    {
      "cell_type": "code",
      "source": [
        "#CNN for Medical Image Classification (Grayscale)\n",
        "\n",
        "import numpy as np\n",
        "import pandas as pd\n",
        "import matplotlib.pyplot as plt\n",
        "import tensorflow as tf\n",
        "from tensorflow import keras\n",
        "from tensorflow.keras import layers\n",
        "from tensorflow.keras.preprocessing.image import ImageDataGenerator\n",
        "import os\n",
        "import kagglehub"
      ],
      "outputs": [],
      "execution_count": 5,
      "metadata": {
        "id": "Lf42Vzffzwy4"
      }
    },
    {
      "cell_type": "code",
      "source": [
        "# Step 1: Download and Extract the Medical Image Dataset\n",
        "path = kagglehub.dataset_download(\"paultimothymooney/chest-xray-pneumonia\")\n",
        "extract_folder = os.path.join(path, \"chest_xray\")\n",
        "\n",
        "print(\"Path to dataset files:\", path)"
      ],
      "outputs": [
        {
          "output_type": "stream",
          "name": "stdout",
          "text": "Downloading from https://www.kaggle.com/api/v1/datasets/download/paultimothymooney/chest-xray-pneumonia?dataset_version_number=2...\n"
        },
        {
          "output_type": "stream",
          "name": "stderr",
          "text": "100%|██████████| 2.29G/2.29G [00:57<00:00, 42.7MB/s]"
        },
        {
          "output_type": "stream",
          "name": "stdout",
          "text": "Extracting files...\n"
        },
        {
          "output_type": "stream",
          "name": "stderr",
          "text": "\n"
        },
        {
          "output_type": "stream",
          "name": "stdout",
          "text": "Path to dataset files: /root/.cache/kagglehub/datasets/paultimothymooney/chest-xray-pneumonia/versions/2\n"
        }
      ],
      "execution_count": 2,
      "metadata": {
        "colab": {
          "base_uri": "https://localhost:8080/"
        },
        "id": "LFAlXe3w0BQ8",
        "outputId": "1ca53cc1-64c0-4959-81e3-41d5be338fa1"
      }
    },
    {
      "cell_type": "code",
      "source": [
        "# Step 2: Load and Preprocess the Data\n",
        "train_dir = os.path.join(extract_folder, \"train\")\n",
        "val_dir = os.path.join(extract_folder, \"val\")\n",
        "test_dir = os.path.join(extract_folder, \"test\")"
      ],
      "outputs": [],
      "execution_count": 3,
      "metadata": {
        "id": "mTKaQVAI0FtK"
      }
    },
    {
      "cell_type": "code",
      "source": [
        "# Image preprocessing and augmentation\n",
        "data_gen = ImageDataGenerator(rescale=1./255, validation_split=0.2)\n",
        "\n",
        "train_data = data_gen.flow_from_directory(\n",
        "    train_dir,\n",
        "    target_size=(128, 128),\n",
        "    color_mode='grayscale',  # Correctly loads grayscale images\n",
        "    batch_size=32,\n",
        "    class_mode='binary',  # Ensures correct label format\n",
        "    subset='training'\n",
        ")\n",
        "\n",
        "val_data = data_gen.flow_from_directory(\n",
        "    val_dir,\n",
        "    target_size=(128, 128),\n",
        "    color_mode='grayscale',  # Loads grayscale images correctly\n",
        "    batch_size=32,\n",
        "    class_mode='binary',  # Correct classification mode\n",
        "    subset='validation'\n",
        ")\n",
        "\n",
        "test_data = data_gen.flow_from_directory(\n",
        "    test_dir,\n",
        "    target_size=(128, 128),\n",
        "    color_mode='grayscale',  # Loads grayscale images correctly\n",
        "    batch_size=32,\n",
        "    class_mode='binary',  # Correct classification mode\n",
        "    subset='validation'\n",
        ")"
      ],
      "outputs": [
        {
          "output_type": "stream",
          "name": "stdout",
          "text": "Found 4173 images belonging to 2 classes.\nFound 2 images belonging to 2 classes.\nFound 124 images belonging to 2 classes.\n"
        }
      ],
      "execution_count": 4,
      "metadata": {
        "colab": {
          "base_uri": "https://localhost:8080/"
        },
        "id": "jp5VuuWI0JjV",
        "outputId": "9c63dc2c-36ef-46a3-e6f4-d14c1322b532"
      }
    },
    {
      "cell_type": "code",
      "source": [
        "# Step 3: Define the CNN Model\n",
        "model = keras.Sequential([\n",
        "    layers.Conv2D(32, (3,3), activation='relu', input_shape=(128, 128, 1)),\n",
        "    layers.BatchNormalization(),\n",
        "    layers.MaxPooling2D(2,2),\n",
        "\n",
        "    layers.Conv2D(64, (3,3), activation='relu'),\n",
        "    layers.BatchNormalization(),\n",
        "    layers.MaxPooling2D(2,2),\n",
        "\n",
        "    layers.Conv2D(128, (3,3), activation='relu'),\n",
        "    layers.BatchNormalization(),\n",
        "    layers.MaxPooling2D(2,2),\n",
        "\n",
        "    layers.Conv2D(256, (3,3), activation='relu'),\n",
        "    layers.BatchNormalization(),\n",
        "    layers.MaxPooling2D(2,2),\n",
        "\n",
        "    layers.Flatten(),\n",
        "    layers.Dense(256, activation='relu'),\n",
        "    layers.BatchNormalization(),\n",
        "    layers.Flatten(),\n",
        "    layers.Dense(128, activation='relu'),\n",
        "    layers.BatchNormalization(),\n",
        "    layers.Dropout(0.5),\n",
        "    layers.Dense(1, activation='sigmoid')\n",
        "])\n",
        "model.compile(optimizer='adam', loss='binary_crossentropy', metrics=['accuracy'])"
      ],
      "outputs": [],
      "execution_count": 47,
      "metadata": {
        "id": "thTv74xg0RTN"
      }
    },
    {
      "cell_type": "code",
      "source": [
        "# Step 4: Train the Model\n",
        "history = model.fit(train_data, validation_data=val_data, epochs=10)"
      ],
      "outputs": [
        {
          "output_type": "stream",
          "name": "stdout",
          "text": "Epoch 1/10\n\u001b[1m131/131\u001b[0m \u001b[32m━━━━━━━━━━━━━━━━━━━━\u001b[0m\u001b[37m\u001b[0m \u001b[1m40s\u001b[0m 234ms/step - accuracy: 0.8555 - loss: 0.3920 - val_accuracy: 0.5000 - val_loss: 3.9041\nEpoch 2/10\n\u001b[1m131/131\u001b[0m \u001b[32m━━━━━━━━━━━━━━━━━━━━\u001b[0m\u001b[37m\u001b[0m \u001b[1m26s\u001b[0m 199ms/step - accuracy: 0.9521 - loss: 0.1479 - val_accuracy: 0.5000 - val_loss: 4.2422\nEpoch 3/10\n\u001b[1m131/131\u001b[0m \u001b[32m━━━━━━━━━━━━━━━━━━━━\u001b[0m\u001b[37m\u001b[0m \u001b[1m26s\u001b[0m 200ms/step - accuracy: 0.9522 - loss: 0.1580 - val_accuracy: 0.5000 - val_loss: 5.8322\nEpoch 4/10\n\u001b[1m131/131\u001b[0m \u001b[32m━━━━━━━━━━━━━━━━━━━━\u001b[0m\u001b[37m\u001b[0m \u001b[1m26s\u001b[0m 201ms/step - accuracy: 0.9649 - loss: 0.1033 - val_accuracy: 0.5000 - val_loss: 1.3031\nEpoch 5/10\n\u001b[1m131/131\u001b[0m \u001b[32m━━━━━━━━━━━━━━━━━━━━\u001b[0m\u001b[37m\u001b[0m \u001b[1m41s\u001b[0m 202ms/step - accuracy: 0.9756 - loss: 0.0698 - val_accuracy: 0.5000 - val_loss: 2.6493\nEpoch 6/10\n\u001b[1m131/131\u001b[0m \u001b[32m━━━━━━━━━━━━━━━━━━━━\u001b[0m\u001b[37m\u001b[0m \u001b[1m26s\u001b[0m 202ms/step - accuracy: 0.9736 - loss: 0.0871 - val_accuracy: 0.5000 - val_loss: 1.9575\nEpoch 7/10\n\u001b[1m131/131\u001b[0m \u001b[32m━━━━━━━━━━━━━━━━━━━━\u001b[0m\u001b[37m\u001b[0m \u001b[1m26s\u001b[0m 202ms/step - accuracy: 0.9811 - loss: 0.0562 - val_accuracy: 0.5000 - val_loss: 0.4901\nEpoch 8/10\n\u001b[1m131/131\u001b[0m \u001b[32m━━━━━━━━━━━━━━━━━━━━\u001b[0m\u001b[37m\u001b[0m \u001b[1m27s\u001b[0m 207ms/step - accuracy: 0.9786 - loss: 0.0493 - val_accuracy: 0.5000 - val_loss: 5.4924\nEpoch 9/10\n\u001b[1m131/131\u001b[0m \u001b[32m━━━━━━━━━━━━━━━━━━━━\u001b[0m\u001b[37m\u001b[0m \u001b[1m27s\u001b[0m 204ms/step - accuracy: 0.9892 - loss: 0.0348 - val_accuracy: 1.0000 - val_loss: 0.2965\nEpoch 10/10\n\u001b[1m131/131\u001b[0m \u001b[32m━━━━━━━━━━━━━━━━━━━━\u001b[0m\u001b[37m\u001b[0m \u001b[1m27s\u001b[0m 208ms/step - accuracy: 0.9875 - loss: 0.0403 - val_accuracy: 1.0000 - val_loss: 0.0177\n"
        }
      ],
      "execution_count": 48,
      "metadata": {
        "colab": {
          "base_uri": "https://localhost:8080/"
        },
        "id": "lKqqeoum0Scg",
        "outputId": "5796ae13-77bf-49d0-b4cf-754294288b1e"
      }
    },
    {
      "cell_type": "code",
      "source": [
        "# Step 5: Evaluate the model on the test set\n",
        "loss, accuracy = model.evaluate(test_data)\n",
        "print(f\"Test Loss: {loss}\")\n",
        "print(f\"Test Accuracy: {accuracy}\")"
      ],
      "outputs": [
        {
          "output_type": "stream",
          "name": "stdout",
          "text": "\u001b[1m4/4\u001b[0m \u001b[32m━━━━━━━━━━━━━━━━━━━━\u001b[0m\u001b[37m\u001b[0m \u001b[1m2s\u001b[0m 277ms/step - accuracy: 0.9631 - loss: 0.1756\nTest Loss: 0.16100522875785828\nTest Accuracy: 0.9677419066429138\n"
        }
      ],
      "execution_count": 49,
      "metadata": {
        "colab": {
          "base_uri": "https://localhost:8080/"
        },
        "id": "zrcxPKut0U6t",
        "outputId": "5e43ba76-3078-462e-906f-4a4121d36c2f"
      }
    },
    {
      "cell_type": "code",
      "source": [
        "# Step 6: Plot Training History\n",
        "plt.figure(figsize=(8, 5))\n",
        "plt.plot(history.history['accuracy'], label='Train Accuracy')\n",
        "plt.plot(history.history['val_accuracy'], label='Validation Accuracy')\n",
        "plt.xlabel('Epochs')\n",
        "plt.ylabel('Accuracy')\n",
        "plt.legend()\n",
        "plt.title('Training Progress')\n",
        "plt.show()\n",
        "\n",
        "print(\"CNN Model for Medical Image Classification Completed!\")"
      ],
      "outputs": [
        {
          "output_type": "display_data",
          "data": {
            "text/plain": "<Figure size 800x500 with 1 Axes>",
            "image/png": "[encoded data removed]"
          },
          "metadata": {}
        },
        {
          "output_type": "stream",
          "name": "stdout",
          "text": "CNN Model for Medical Image Classification Completed!\n"
        }
      ],
      "execution_count": 9,
      "metadata": {
        "colab": {
          "base_uri": "https://localhost:8080/",
          "height": 504
        },
        "id": "V3Yl4j850YQu",
        "outputId": "449e0c78-d7d4-4a30-d23a-d3d742aa325a"
      }
    }
  ],
  "metadata": {
    "colab": {
      "provenance": [],
      "gpuType": "T4"
    },
    "kernelspec": {
      "name": "python",
      "language": "python",
      "display_name": "Pyolite (preview)"
    },
    "language_info": {
      "codemirror_mode": {
        "name": "python",
        "version": 3
      },
      "file_extension": ".py",
      "mimetype": "text/x-python",
      "name": "python",
      "nbconvert_exporter": "python",
      "pygments_lexer": "ipython3",
      "version": "3.8"
    },
    "accelerator": "GPU",
    "kernel_info": {
      "name": "python"
    },
    "nteract": {
      "version": "nteract-front-end@1.0.0"
    }
  },
  "nbformat": 4,
  "nbformat_minor": 0
}